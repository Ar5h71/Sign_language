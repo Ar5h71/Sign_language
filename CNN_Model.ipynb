{
 "cells": [
  {
   "cell_type": "code",
   "execution_count": 2,
   "metadata": {},
   "outputs": [],
   "source": [
    "import pandas as pd\n",
    "import numpy as np\n",
    "import keras\n",
    "from keras.datasets import mnist\n",
    "from keras.models import Sequential\n",
    "from keras.layers import Dense, Dropout, Flatten\n",
    "from keras.layers import Conv2D, MaxPooling2D\n",
    "from keras import backend as K\n",
    "import csv\n",
    "from keras.optimizers import SGD\n",
    "import warnings\n",
    "warnings.filterwarnings('ignore')\n",
    "X_train = pd.read_csv(\"sign_mnist_train.csv\") \n",
    "X_test = pd.read_csv(\"sign_mnist_test.csv\") \n",
    "\n",
    "y_train=X_train['label']\n",
    "y_test=X_test['label']\n",
    "\n",
    "    \n",
    "X_train = np.array(X_train.iloc[:,1:])\n",
    "X_train = np.array([np.reshape(i, (28,28)) for i in X_train])/255\n",
    "X_test = np.array(X_test.iloc[:,1:])\n",
    "X_test = np.array([np.reshape(i, (28,28)) for i in X_test])/255\n",
    "num_classes = 26\n",
    "y_train = np.array(y_train).reshape(-1)\n",
    "y_test = np.array(y_test).reshape(-1)\n",
    "y_train = np.eye(num_classes)[y_train]\n",
    "y_test = np.eye(num_classes)[y_test]\n",
    "X_train = X_train.reshape((27455, 28, 28, 1))\n",
    "X_test = X_test.reshape((7172, 28, 28, 1))\n",
    "\n",
    "\n",
    "\n",
    "\n",
    "\n",
    "classifier = Sequential()\n",
    "classifier.add(Conv2D(filters=8, kernel_size=(3,3),strides=(1,1),padding='same',input_shape=(28,28,1),activation='relu', data_format='channels_last'))\n",
    "classifier.add(MaxPooling2D(pool_size=(2,2)))\n",
    "classifier.add(Conv2D(filters=16, kernel_size=(3,3),strides=(1,1),padding='same',activation='relu'))\n",
    "classifier.add(Dropout(0.5))\n",
    "classifier.add(MaxPooling2D(pool_size=(4,4)))\n",
    "classifier.add(Dense(128, activation='relu'))\n",
    "classifier.add(Flatten())\n",
    "classifier.add(Dense(26, activation='softmax'))\n",
    "\n",
    "classifier.compile(optimizer='SGD', loss='categorical_crossentropy', metrics=['accuracy'])\n",
    "\n"
   ]
  },
  {
   "cell_type": "code",
   "execution_count": 4,
   "metadata": {},
   "outputs": [
    {
     "name": "stdout",
     "output_type": "stream",
     "text": [
      "Epoch 1/50\n",
      "27455/27455 [==============================] - 5s 185us/step - loss: 1.1463 - accuracy: 0.6361\n",
      "Epoch 2/50\n",
      "27455/27455 [==============================] - 5s 179us/step - loss: 0.6799 - accuracy: 0.7753\n",
      "Epoch 3/50\n",
      "27455/27455 [==============================] - 5s 180us/step - loss: 0.4418 - accuracy: 0.8511\n",
      "Epoch 4/50\n",
      "27455/27455 [==============================] - 5s 175us/step - loss: 0.3132 - accuracy: 0.8946\n",
      "Epoch 5/50\n",
      "27455/27455 [==============================] - 5s 181us/step - loss: 0.2531 - accuracy: 0.9142\n",
      "Epoch 6/50\n",
      "27455/27455 [==============================] - 5s 173us/step - loss: 0.2051 - accuracy: 0.9313\n",
      "Epoch 7/50\n",
      "27455/27455 [==============================] - 5s 182us/step - loss: 0.1727 - accuracy: 0.9427\n",
      "Epoch 8/50\n",
      "27455/27455 [==============================] - 5s 179us/step - loss: 0.1519 - accuracy: 0.9485\n",
      "Epoch 9/50\n",
      "27455/27455 [==============================] - 5s 171us/step - loss: 0.1317 - accuracy: 0.9564\n",
      "Epoch 10/50\n",
      "27455/27455 [==============================] - 5s 188us/step - loss: 0.1151 - accuracy: 0.9612\n",
      "Epoch 11/50\n",
      "27455/27455 [==============================] - 5s 178us/step - loss: 0.1128 - accuracy: 0.9608\n",
      "Epoch 12/50\n",
      "27455/27455 [==============================] - 5s 180us/step - loss: 0.1072 - accuracy: 0.9644\n",
      "Epoch 13/50\n",
      "27455/27455 [==============================] - 5s 184us/step - loss: 0.0953 - accuracy: 0.9688\n",
      "Epoch 14/50\n",
      "27455/27455 [==============================] - 5s 186us/step - loss: 0.0860 - accuracy: 0.9704\n",
      "Epoch 15/50\n",
      "27455/27455 [==============================] - 5s 196us/step - loss: 0.0827 - accuracy: 0.9728\n",
      "Epoch 16/50\n",
      "27455/27455 [==============================] - 5s 187us/step - loss: 0.0768 - accuracy: 0.9734\n",
      "Epoch 17/50\n",
      "27455/27455 [==============================] - 5s 186us/step - loss: 0.0676 - accuracy: 0.9786\n",
      "Epoch 18/50\n",
      "27455/27455 [==============================] - 5s 184us/step - loss: 0.0693 - accuracy: 0.9773\n",
      "Epoch 19/50\n",
      "27455/27455 [==============================] - 5s 181us/step - loss: 0.0614 - accuracy: 0.9791\n",
      "Epoch 20/50\n",
      "27455/27455 [==============================] - 5s 200us/step - loss: 0.0593 - accuracy: 0.9801\n",
      "Epoch 21/50\n",
      "27455/27455 [==============================] - 5s 179us/step - loss: 0.0602 - accuracy: 0.9803\n",
      "Epoch 22/50\n",
      "27455/27455 [==============================] - 5s 184us/step - loss: 0.0529 - accuracy: 0.9826\n",
      "Epoch 23/50\n",
      "27455/27455 [==============================] - 5s 192us/step - loss: 0.0471 - accuracy: 0.9847\n",
      "Epoch 24/50\n",
      "27455/27455 [==============================] - 5s 173us/step - loss: 0.0493 - accuracy: 0.9839\n",
      "Epoch 25/50\n",
      "27455/27455 [==============================] - 5s 177us/step - loss: 0.0495 - accuracy: 0.9825\n",
      "Epoch 26/50\n",
      "27455/27455 [==============================] - 5s 196us/step - loss: 0.0446 - accuracy: 0.9845\n",
      "Epoch 27/50\n",
      "27455/27455 [==============================] - 5s 181us/step - loss: 0.0413 - accuracy: 0.9865\n",
      "Epoch 28/50\n",
      "27455/27455 [==============================] - 5s 173us/step - loss: 0.0431 - accuracy: 0.9851\n",
      "Epoch 29/50\n",
      "27455/27455 [==============================] - 5s 182us/step - loss: 0.0407 - accuracy: 0.9859\n",
      "Epoch 30/50\n",
      "27455/27455 [==============================] - 5s 185us/step - loss: 0.0358 - accuracy: 0.9880\n",
      "Epoch 31/50\n",
      "27455/27455 [==============================] - 5s 179us/step - loss: 0.0362 - accuracy: 0.9881\n",
      "Epoch 32/50\n",
      "27455/27455 [==============================] - 5s 187us/step - loss: 0.0386 - accuracy: 0.9870\n",
      "Epoch 33/50\n",
      "27455/27455 [==============================] - 5s 190us/step - loss: 0.0330 - accuracy: 0.9894\n",
      "Epoch 34/50\n",
      "27455/27455 [==============================] - 5s 186us/step - loss: 0.0339 - accuracy: 0.9887\n",
      "Epoch 35/50\n",
      "27455/27455 [==============================] - 5s 188us/step - loss: 0.0333 - accuracy: 0.9890\n",
      "Epoch 36/50\n",
      "27455/27455 [==============================] - 5s 179us/step - loss: 0.0339 - accuracy: 0.9894\n",
      "Epoch 37/50\n",
      "27455/27455 [==============================] - 5s 176us/step - loss: 0.0321 - accuracy: 0.9887\n",
      "Epoch 38/50\n",
      "27455/27455 [==============================] - 5s 174us/step - loss: 0.0249 - accuracy: 0.9912\n",
      "Epoch 39/50\n",
      "27455/27455 [==============================] - 5s 185us/step - loss: 0.0299 - accuracy: 0.9899\n",
      "Epoch 40/50\n",
      "27455/27455 [==============================] - 5s 175us/step - loss: 0.0278 - accuracy: 0.9905\n",
      "Epoch 41/50\n",
      "27455/27455 [==============================] - 5s 175us/step - loss: 0.0269 - accuracy: 0.9906\n",
      "Epoch 42/50\n",
      "27455/27455 [==============================] - 5s 182us/step - loss: 0.0254 - accuracy: 0.9909\n",
      "Epoch 43/50\n",
      "27455/27455 [==============================] - 5s 177us/step - loss: 0.0286 - accuracy: 0.9903\n",
      "Epoch 44/50\n",
      "27455/27455 [==============================] - 5s 176us/step - loss: 0.0228 - accuracy: 0.9926\n",
      "Epoch 45/50\n",
      "27455/27455 [==============================] - 5s 190us/step - loss: 0.0216 - accuracy: 0.9932\n",
      "Epoch 46/50\n",
      "27455/27455 [==============================] - 5s 176us/step - loss: 0.0262 - accuracy: 0.9915\n",
      "Epoch 47/50\n",
      "27455/27455 [==============================] - 5s 182us/step - loss: 0.0218 - accuracy: 0.99220s - loss: 0.0\n",
      "Epoch 48/50\n",
      "27455/27455 [==============================] - 5s 185us/step - loss: 0.0217 - accuracy: 0.9924\n",
      "Epoch 49/50\n",
      "27455/27455 [==============================] - 5s 178us/step - loss: 0.0212 - accuracy: 0.9930\n",
      "Epoch 50/50\n",
      "27455/27455 [==============================] - 5s 176us/step - loss: 0.0201 - accuracy: 0.9932\n"
     ]
    },
    {
     "data": {
      "text/plain": [
       "<keras.callbacks.callbacks.History at 0x263b58d8308>"
      ]
     },
     "execution_count": 4,
     "metadata": {},
     "output_type": "execute_result"
    }
   ],
   "source": [
    "classifier.compile(loss='categorical_crossentropy', optimizer='adam', metrics=['accuracy'])\n",
    "classifier.fit(X_train, y_train, epochs=50, batch_size=100)"
   ]
  },
  {
   "cell_type": "code",
   "execution_count": 5,
   "metadata": {},
   "outputs": [
    {
     "name": "stdout",
     "output_type": "stream",
     "text": [
      "7172/7172 [==============================] - 1s 86us/step\n",
      "Accuracy:  0.9372559785842896\n"
     ]
    }
   ],
   "source": [
    "accuracy = classifier.evaluate(x=X_test,y=y_test,batch_size=32)\n",
    "print(\"Accuracy: \",accuracy[1])\n"
   ]
  },
  {
   "cell_type": "code",
   "execution_count": 6,
   "metadata": {},
   "outputs": [],
   "source": [
    "classifier.save('CNN.h5')\n"
   ]
  },
  {
   "cell_type": "code",
   "execution_count": 7,
   "metadata": {},
   "outputs": [
    {
     "name": "stdout",
     "output_type": "stream",
     "text": [
      "Model: \"sequential_2\"\n",
      "_________________________________________________________________\n",
      "Layer (type)                 Output Shape              Param #   \n",
      "=================================================================\n",
      "conv2d_3 (Conv2D)            (None, 28, 28, 8)         80        \n",
      "_________________________________________________________________\n",
      "max_pooling2d_3 (MaxPooling2 (None, 14, 14, 8)         0         \n",
      "_________________________________________________________________\n",
      "conv2d_4 (Conv2D)            (None, 14, 14, 16)        1168      \n",
      "_________________________________________________________________\n",
      "dropout_2 (Dropout)          (None, 14, 14, 16)        0         \n",
      "_________________________________________________________________\n",
      "max_pooling2d_4 (MaxPooling2 (None, 3, 3, 16)          0         \n",
      "_________________________________________________________________\n",
      "dense_3 (Dense)              (None, 3, 3, 128)         2176      \n",
      "_________________________________________________________________\n",
      "flatten_2 (Flatten)          (None, 1152)              0         \n",
      "_________________________________________________________________\n",
      "dense_4 (Dense)              (None, 26)                29978     \n",
      "=================================================================\n",
      "Total params: 33,402\n",
      "Trainable params: 33,402\n",
      "Non-trainable params: 0\n",
      "_________________________________________________________________\n"
     ]
    }
   ],
   "source": [
    "classifier.summary()"
   ]
  },
  {
   "cell_type": "code",
   "execution_count": null,
   "metadata": {},
   "outputs": [],
   "source": []
  }
 ],
 "metadata": {
  "kernelspec": {
   "display_name": "Python 3",
   "language": "python",
   "name": "python3"
  },
  "language_info": {
   "codemirror_mode": {
    "name": "ipython",
    "version": 3
   },
   "file_extension": ".py",
   "mimetype": "text/x-python",
   "name": "python",
   "nbconvert_exporter": "python",
   "pygments_lexer": "ipython3",
   "version": "3.7.6"
  }
 },
 "nbformat": 4,
 "nbformat_minor": 4
}
